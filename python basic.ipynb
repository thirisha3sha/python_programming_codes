{
 "cells": [
  {
   "cell_type": "markdown",
   "id": "20b21045-1174-41e8-addc-47bce1520565",
   "metadata": {},
   "source": [
    "variables\n",
    "\n",
    "\n",
    "(CRUD-Create Read Update Delete)\n"
   ]
  },
  {
   "cell_type": "code",
   "execution_count": 8,
   "id": "70a540c5-8950-47f7-a88d-c2a4d55a9a17",
   "metadata": {},
   "outputs": [
    {
     "data": {
      "text/plain": [
       "10"
      ]
     },
     "execution_count": 8,
     "metadata": {},
     "output_type": "execute_result"
    }
   ],
   "source": [
    "a=10\n",
    "a"
   ]
  },
  {
   "cell_type": "code",
   "execution_count": 9,
   "id": "e5d45c81-03b5-4a90-9cd8-54642f96a009",
   "metadata": {},
   "outputs": [
    {
     "data": {
      "text/plain": [
       "'thirisha'"
      ]
     },
     "execution_count": 9,
     "metadata": {},
     "output_type": "execute_result"
    }
   ],
   "source": [
    "str_='thirisha'\n",
    "str_"
   ]
  },
  {
   "cell_type": "code",
   "execution_count": 10,
   "id": "c4618fa9-8957-4dca-88db-6dcfa546210e",
   "metadata": {},
   "outputs": [
    {
     "data": {
      "text/plain": [
       "10.9"
      ]
     },
     "execution_count": 10,
     "metadata": {},
     "output_type": "execute_result"
    }
   ],
   "source": [
    "num1=10.9\n",
    "num1"
   ]
  },
  {
   "cell_type": "code",
   "execution_count": 11,
   "id": "f4cc3b1d-0abe-40ef-a321-c9cf24d00e72",
   "metadata": {},
   "outputs": [
    {
     "data": {
      "text/plain": [
       "'3sha'"
      ]
     },
     "execution_count": 11,
     "metadata": {},
     "output_type": "execute_result"
    }
   ],
   "source": [
    "str_2=\"3sha\"\n",
    "str_2"
   ]
  },
  {
   "cell_type": "markdown",
   "id": "10320ffe-aac1-4ee6-87b2-eddc42a11e7d",
   "metadata": {},
   "source": [
    "DIFFERENT DATATYPES"
   ]
  },
  {
   "cell_type": "code",
   "execution_count": 19,
   "id": "f5edee8e-55e0-49c0-9ca2-e60a0b8ab7ef",
   "metadata": {},
   "outputs": [
    {
     "name": "stdout",
     "output_type": "stream",
     "text": [
      "10\n",
      "19.09\n",
      "thirisha\n",
      "3sha\n",
      "True\n"
     ]
    }
   ],
   "source": [
    "a=10\n",
    "b=19.09\n",
    "c=\"thirisha\"\n",
    "d='3sha'\n",
    "e=True\n",
    "print(a)\n",
    "print(b)\n",
    "print(c)\n",
    "print(d)\n",
    "print(e)"
   ]
  },
  {
   "cell_type": "code",
   "execution_count": 15,
   "id": "f9ef6130-2a2f-4554-93be-53200ff5a870",
   "metadata": {},
   "outputs": [
    {
     "name": "stdout",
     "output_type": "stream",
     "text": [
      "<class 'int'>\n",
      "<class 'float'>\n",
      "<class 'str'>\n",
      "<class 'str'>\n",
      "<class 'bool'>\n"
     ]
    }
   ],
   "source": [
    "print(type(a))\n",
    "print(type(b))\n",
    "print(type(c))\n",
    "print(type(d))\n",
    "print(type(e))\n",
    "\n"
   ]
  },
  {
   "cell_type": "code",
   "execution_count": 16,
   "id": "9cfb2358-d45d-4a33-a543-0a84bb48f4a3",
   "metadata": {},
   "outputs": [
    {
     "data": {
      "text/plain": [
       "30"
      ]
     },
     "execution_count": 16,
     "metadata": {},
     "output_type": "execute_result"
    }
   ],
   "source": [
    "a+20"
   ]
  },
  {
   "cell_type": "code",
   "execution_count": 20,
   "id": "109f52ae-69e9-43a1-b44b-bae226d903c8",
   "metadata": {},
   "outputs": [
    {
     "data": {
      "text/plain": [
       "49.09"
      ]
     },
     "execution_count": 20,
     "metadata": {},
     "output_type": "execute_result"
    }
   ],
   "source": [
    "b+30"
   ]
  },
  {
   "cell_type": "code",
   "execution_count": 22,
   "id": "25ee66a5-2220-43c2-b393-ebf3dc0e1b7c",
   "metadata": {},
   "outputs": [
    {
     "data": {
      "text/plain": [
       "'thirisha10'"
      ]
     },
     "execution_count": 22,
     "metadata": {},
     "output_type": "execute_result"
    }
   ],
   "source": [
    "c+\"10\""
   ]
  },
  {
   "cell_type": "code",
   "execution_count": 23,
   "id": "a794b078-7956-492c-afd3-c2fc9c02faf0",
   "metadata": {},
   "outputs": [
    {
     "data": {
      "text/plain": [
       "1"
      ]
     },
     "execution_count": 23,
     "metadata": {},
     "output_type": "execute_result"
    }
   ],
   "source": [
    "int(e)"
   ]
  },
  {
   "cell_type": "code",
   "execution_count": 26,
   "id": "c06909f8-25a9-4f49-8874-756c2891f11c",
   "metadata": {},
   "outputs": [
    {
     "data": {
      "text/plain": [
       "False"
      ]
     },
     "execution_count": 26,
     "metadata": {},
     "output_type": "execute_result"
    }
   ],
   "source": [
    "e=bool(0)\n",
    "e"
   ]
  },
  {
   "cell_type": "markdown",
   "id": "3740d4c8-03b4-44b0-a149-3845635cf74f",
   "metadata": {},
   "source": [
    "#LIST AND TUPLE "
   ]
  },
  {
   "cell_type": "markdown",
   "id": "44c7fce0-9e68-4a1c-a8c8-a19cca6f255c",
   "metadata": {},
   "source": [
    "#LIST-MUTABLE,DIFFERENT DATATYPES ARE ALLOWED"
   ]
  },
  {
   "cell_type": "code",
   "execution_count": 29,
   "id": "6f84cf75-14b0-4f36-8225-df15ee6062cc",
   "metadata": {},
   "outputs": [
    {
     "data": {
      "text/plain": [
       "[23, 45, 67, 'apple', True, 89.76]"
      ]
     },
     "execution_count": 29,
     "metadata": {},
     "output_type": "execute_result"
    }
   ],
   "source": [
    "LIST1=[23,45,67,\"apple\",True,89.76]\n",
    "LIST1\n"
   ]
  },
  {
   "cell_type": "code",
   "execution_count": 29,
   "id": "29bbf5c8-8a59-437d-8389-de745c4e7e44",
   "metadata": {},
   "outputs": [
    {
     "data": {
      "text/plain": [
       "[23, 45, 67, 'apple', True, 89.76]"
      ]
     },
     "execution_count": 29,
     "metadata": {},
     "output_type": "execute_result"
    }
   ],
   "source": [
    "LIST1=[23,45,67,\"apple\",True,89.76]\n",
    "LIST1\n"
   ]
  },
  {
   "cell_type": "code",
   "execution_count": 30,
   "id": "781cc161-93e4-4bfb-88ca-8f87462974ba",
   "metadata": {},
   "outputs": [
    {
     "data": {
      "text/plain": [
       "list"
      ]
     },
     "execution_count": 30,
     "metadata": {},
     "output_type": "execute_result"
    }
   ],
   "source": [
    "type(LIST1)"
   ]
  },
  {
   "cell_type": "code",
   "execution_count": 31,
   "id": "ad19f06f-1f32-429d-a2fb-1e2086038061",
   "metadata": {},
   "outputs": [
    {
     "data": {
      "text/plain": [
       "'apple'"
      ]
     },
     "execution_count": 31,
     "metadata": {},
     "output_type": "execute_result"
    }
   ],
   "source": [
    "LIST1[3]"
   ]
  },
  {
   "cell_type": "code",
   "execution_count": 43,
   "id": "736f44ad-4238-4130-8e67-086b10567e04",
   "metadata": {},
   "outputs": [
    {
     "data": {
      "text/plain": [
       "89.76"
      ]
     },
     "execution_count": 43,
     "metadata": {},
     "output_type": "execute_result"
    }
   ],
   "source": [
    "LIST1[-1]"
   ]
  },
  {
   "cell_type": "code",
   "execution_count": 44,
   "id": "735dd16c-bfb7-4673-b2ea-a4c797571a5b",
   "metadata": {},
   "outputs": [
    {
     "data": {
      "text/plain": [
       "23"
      ]
     },
     "execution_count": 44,
     "metadata": {},
     "output_type": "execute_result"
    }
   ],
   "source": [
    "LIST1[0]"
   ]
  },
  {
   "cell_type": "code",
   "execution_count": 45,
   "id": "eee7c11f-92b2-48d9-8019-b28a0fefc55e",
   "metadata": {},
   "outputs": [],
   "source": [
    "LIST1[3]=100"
   ]
  },
  {
   "cell_type": "code",
   "execution_count": 35,
   "id": "0417d838-51e0-47c8-b83d-406ef97b79dd",
   "metadata": {},
   "outputs": [
    {
     "data": {
      "text/plain": [
       "100"
      ]
     },
     "execution_count": 35,
     "metadata": {},
     "output_type": "execute_result"
    }
   ],
   "source": [
    "LIST1[3]"
   ]
  },
  {
   "cell_type": "code",
   "execution_count": 36,
   "id": "7dd2d5f3-8145-40ab-81a8-a8844b5bcdc3",
   "metadata": {},
   "outputs": [
    {
     "data": {
      "text/plain": [
       "[23, 45, 67, 100, True, 89.76]"
      ]
     },
     "execution_count": 36,
     "metadata": {},
     "output_type": "execute_result"
    }
   ],
   "source": [
    "LIST1"
   ]
  },
  {
   "cell_type": "markdown",
   "id": "48b79360-ec1e-4fc3-8010-274d96736b6c",
   "metadata": {},
   "source": [
    "#TUPLES--immutable& same datatype"
   ]
  },
  {
   "cell_type": "code",
   "execution_count": 37,
   "id": "d861b564-9e78-4b4d-8fa1-a61f6721a9d9",
   "metadata": {},
   "outputs": [
    {
     "data": {
      "text/plain": [
       "tuple"
      ]
     },
     "execution_count": 37,
     "metadata": {},
     "output_type": "execute_result"
    }
   ],
   "source": [
    "\n",
    "tup=(12,13,14,15,16)\n",
    "type(tup)"
   ]
  },
  {
   "cell_type": "code",
   "execution_count": 38,
   "id": "0579c619-ebe1-4f7e-b601-29630e5f7f9a",
   "metadata": {},
   "outputs": [
    {
     "data": {
      "text/plain": [
       "(12, 13, 14, 15, 16)"
      ]
     },
     "execution_count": 38,
     "metadata": {},
     "output_type": "execute_result"
    }
   ],
   "source": [
    "tup"
   ]
  },
  {
   "cell_type": "code",
   "execution_count": 39,
   "id": "3ed18c1f-b690-432e-bfa3-af32191f79eb",
   "metadata": {},
   "outputs": [
    {
     "data": {
      "text/plain": [
       "15"
      ]
     },
     "execution_count": 39,
     "metadata": {},
     "output_type": "execute_result"
    }
   ],
   "source": [
    "tup[3]"
   ]
  },
  {
   "cell_type": "code",
   "execution_count": 40,
   "id": "d335a9b5-1fb1-4402-8e5f-af9faeaf2126",
   "metadata": {},
   "outputs": [
    {
     "data": {
      "text/plain": [
       "16"
      ]
     },
     "execution_count": 40,
     "metadata": {},
     "output_type": "execute_result"
    }
   ],
   "source": [
    "tup[-1]"
   ]
  },
  {
   "cell_type": "markdown",
   "id": "ce99af57-5a6b-4d12-b96c-a5dc1264edd7",
   "metadata": {},
   "source": [
    "\n",
    "#SETS-UNORDERED,NO DUPLICATES,DIFFERENT DATATYPES,UNUPDATEABLE(IMMUTABLE)"
   ]
  },
  {
   "cell_type": "code",
   "execution_count": 46,
   "id": "4f395721-cec8-419a-9b18-8959cdef2aec",
   "metadata": {},
   "outputs": [],
   "source": [
    "set1={23,23,23,5667.66,45,234,89}"
   ]
  },
  {
   "cell_type": "code",
   "execution_count": 47,
   "id": "d3cd8b12-4d9f-4b16-ad2a-fac8e73e29b2",
   "metadata": {},
   "outputs": [
    {
     "data": {
      "text/plain": [
       "{23, 45, 89, 234, 5667.66}"
      ]
     },
     "execution_count": 47,
     "metadata": {},
     "output_type": "execute_result"
    }
   ],
   "source": [
    "set1"
   ]
  },
  {
   "cell_type": "code",
   "execution_count": 49,
   "id": "fc417958-8418-4ff7-a3e7-dc14890f63d3",
   "metadata": {},
   "outputs": [],
   "source": [
    "list2=[9,45,\"orange\",True,98.0,9]\n"
   ]
  },
  {
   "cell_type": "code",
   "execution_count": 50,
   "id": "0caa6a81-741f-4a2d-a207-cbf18009b7b9",
   "metadata": {},
   "outputs": [
    {
     "data": {
      "text/plain": [
       "{45, 9, 98.0, True, 'orange'}"
      ]
     },
     "execution_count": 50,
     "metadata": {},
     "output_type": "execute_result"
    }
   ],
   "source": [
    "set(list2)"
   ]
  },
  {
   "cell_type": "code",
   "execution_count": 51,
   "id": "116963f7-41fb-420c-9f32-fcf3d054da3e",
   "metadata": {},
   "outputs": [
    {
     "data": {
      "text/plain": [
       "[5667.66, 23, 89, 234, 45]"
      ]
     },
     "execution_count": 51,
     "metadata": {},
     "output_type": "execute_result"
    }
   ],
   "source": [
    "list(set1)"
   ]
  },
  {
   "cell_type": "markdown",
   "id": "6784d84b-ed3a-433e-9288-e1d2fce14a8d",
   "metadata": {},
   "source": [
    "#DICTIONARY-KEY VALUE PAIR-differenet datatypes"
   ]
  },
  {
   "cell_type": "code",
   "execution_count": 56,
   "id": "7d3c9b71-7f42-446b-bd67-5e7759a25263",
   "metadata": {},
   "outputs": [],
   "source": [
    "sample={\"a\":12,\"b\":\"hello\",\"c\":89.56}"
   ]
  },
  {
   "cell_type": "code",
   "execution_count": 57,
   "id": "1697c44e-cf6b-4b64-acbb-6c9eeee6e5f5",
   "metadata": {},
   "outputs": [
    {
     "data": {
      "text/plain": [
       "{'a': 12, 'b': 'hello', 'c': 89.56}"
      ]
     },
     "execution_count": 57,
     "metadata": {},
     "output_type": "execute_result"
    }
   ],
   "source": [
    "sample"
   ]
  },
  {
   "cell_type": "code",
   "execution_count": 58,
   "id": "193edf75-f958-4d48-ae7b-0f3b720855de",
   "metadata": {},
   "outputs": [
    {
     "data": {
      "text/plain": [
       "dict"
      ]
     },
     "execution_count": 58,
     "metadata": {},
     "output_type": "execute_result"
    }
   ],
   "source": [
    "type(sample)"
   ]
  },
  {
   "cell_type": "code",
   "execution_count": 60,
   "id": "453e91db-2d7e-434a-9116-5d1ed5103b79",
   "metadata": {},
   "outputs": [
    {
     "data": {
      "text/plain": [
       "'hello'"
      ]
     },
     "execution_count": 60,
     "metadata": {},
     "output_type": "execute_result"
    }
   ],
   "source": [
    "sample[\"b\"]"
   ]
  },
  {
   "cell_type": "code",
   "execution_count": 61,
   "id": "4efe238b-fa77-47b5-963e-9c3bb5a15dbc",
   "metadata": {},
   "outputs": [
    {
     "data": {
      "text/plain": [
       "89.56"
      ]
     },
     "execution_count": 61,
     "metadata": {},
     "output_type": "execute_result"
    }
   ],
   "source": [
    "sample[\"c\"]"
   ]
  },
  {
   "cell_type": "markdown",
   "id": "d4658f79-a10b-4b68-a133-b31940266377",
   "metadata": {},
   "source": [
    "#CRUD-LIST"
   ]
  },
  {
   "cell_type": "code",
   "execution_count": 98,
   "id": "367ef270-2126-4cd0-94ad-6155032e4c98",
   "metadata": {},
   "outputs": [
    {
     "name": "stdout",
     "output_type": "stream",
     "text": [
      "<class 'list'>\n"
     ]
    }
   ],
   "source": [
    "#CREATE\n",
    "places=[\"chennai\",\"Hyderabad\",\"Delhi\",\"Goa\",\"Manipur\"]\n",
    "\n",
    "print(type(places))"
   ]
  },
  {
   "cell_type": "code",
   "execution_count": 99,
   "id": "148614c0-7835-421a-baf0-bbd5a71af3e5",
   "metadata": {},
   "outputs": [
    {
     "data": {
      "text/plain": [
       "['chennai', 'Hyderabad', 'Delhi', 'Goa', 'Manipur']"
      ]
     },
     "execution_count": 99,
     "metadata": {},
     "output_type": "execute_result"
    }
   ],
   "source": [
    "#READ\n",
    "places"
   ]
  },
  {
   "cell_type": "code",
   "execution_count": 100,
   "id": "f86f44e9-daaa-4b9e-8d2a-7c5bbae56b7b",
   "metadata": {},
   "outputs": [
    {
     "name": "stdout",
     "output_type": "stream",
     "text": [
      "['chennai', 'Hyderabad', 'Delhi', 'Goa', 'Manipur']\n"
     ]
    }
   ],
   "source": [
    "print(places)"
   ]
  },
  {
   "cell_type": "code",
   "execution_count": 101,
   "id": "68e626b3-b413-4c3b-9a98-c116c739b945",
   "metadata": {},
   "outputs": [
    {
     "data": {
      "text/plain": [
       "'Goa'"
      ]
     },
     "execution_count": 101,
     "metadata": {},
     "output_type": "execute_result"
    }
   ],
   "source": [
    "#reading using index number\n",
    "places[3]"
   ]
  },
  {
   "cell_type": "code",
   "execution_count": 102,
   "id": "e21cf9a6-bb7d-4e42-9602-0098d1addfe2",
   "metadata": {},
   "outputs": [
    {
     "data": {
      "text/plain": [
       "'Goa'"
      ]
     },
     "execution_count": 102,
     "metadata": {},
     "output_type": "execute_result"
    }
   ],
   "source": [
    "places[-2]"
   ]
  },
  {
   "cell_type": "code",
   "execution_count": 103,
   "id": "3bd8dd7b-f695-4274-80ba-d2867aeef30b",
   "metadata": {},
   "outputs": [
    {
     "data": {
      "text/plain": [
       "5"
      ]
     },
     "execution_count": 103,
     "metadata": {},
     "output_type": "execute_result"
    }
   ],
   "source": [
    "len(places)"
   ]
  },
  {
   "cell_type": "code",
   "execution_count": 104,
   "id": "fac1f579-3162-4cf6-aa27-8f1f6e48d0a0",
   "metadata": {},
   "outputs": [],
   "source": [
    "#UPDATE\n",
    "places[1]=\"Gujarat\""
   ]
  },
  {
   "cell_type": "code",
   "execution_count": 105,
   "id": "150c621f-b96f-4f98-b1e7-94d712d28c15",
   "metadata": {},
   "outputs": [
    {
     "data": {
      "text/plain": [
       "['chennai', 'Gujarat', 'Delhi', 'Goa', 'Manipur']"
      ]
     },
     "execution_count": 105,
     "metadata": {},
     "output_type": "execute_result"
    }
   ],
   "source": [
    "places"
   ]
  },
  {
   "cell_type": "code",
   "execution_count": 106,
   "id": "9a41a763-355c-44d5-a00b-4b65b87b8428",
   "metadata": {},
   "outputs": [],
   "source": [
    "places.append(\"Assam\")"
   ]
  },
  {
   "cell_type": "code",
   "execution_count": 107,
   "id": "4d4ecab8-841d-4b5e-93e7-b835ec285d83",
   "metadata": {},
   "outputs": [
    {
     "data": {
      "text/plain": [
       "['chennai', 'Gujarat', 'Delhi', 'Goa', 'Manipur', 'Assam']"
      ]
     },
     "execution_count": 107,
     "metadata": {},
     "output_type": "execute_result"
    }
   ],
   "source": [
    "places"
   ]
  },
  {
   "cell_type": "code",
   "execution_count": 108,
   "id": "cc1e6c22-fb24-45dc-b4af-f0acad51e6d3",
   "metadata": {},
   "outputs": [
    {
     "data": {
      "text/plain": [
       "\u001b[1;31mSignature:\u001b[0m \u001b[0mplaces\u001b[0m\u001b[1;33m.\u001b[0m\u001b[0minsert\u001b[0m\u001b[1;33m(\u001b[0m\u001b[0mindex\u001b[0m\u001b[1;33m,\u001b[0m \u001b[0mobject\u001b[0m\u001b[1;33m,\u001b[0m \u001b[1;33m/\u001b[0m\u001b[1;33m)\u001b[0m\u001b[1;33m\u001b[0m\u001b[1;33m\u001b[0m\u001b[0m\n",
       "\u001b[1;31mDocstring:\u001b[0m Insert object before index.\n",
       "\u001b[1;31mType:\u001b[0m      builtin_function_or_method"
      ]
     },
     "metadata": {},
     "output_type": "display_data"
    }
   ],
   "source": [
    "places.insert??"
   ]
  },
  {
   "cell_type": "code",
   "execution_count": 109,
   "id": "f0cefa9b-a441-442b-861d-3d42b635baa8",
   "metadata": {},
   "outputs": [],
   "source": [
    "places.insert(3,\"Karnataka\")"
   ]
  },
  {
   "cell_type": "code",
   "execution_count": 110,
   "id": "505b6f1f-ad96-46d9-bdcb-b2996a79d042",
   "metadata": {},
   "outputs": [
    {
     "data": {
      "text/plain": [
       "['chennai', 'Gujarat', 'Delhi', 'Karnataka', 'Goa', 'Manipur', 'Assam']"
      ]
     },
     "execution_count": 110,
     "metadata": {},
     "output_type": "execute_result"
    }
   ],
   "source": [
    "places"
   ]
  },
  {
   "cell_type": "code",
   "execution_count": 111,
   "id": "e91296c8-906b-4f7e-bb83-c6bf23ee67d9",
   "metadata": {},
   "outputs": [
    {
     "name": "stdout",
     "output_type": "stream",
     "text": [
      "['chennai', 'Gujarat', 'Karnataka', 'Goa', 'Manipur', 'Assam']\n"
     ]
    }
   ],
   "source": [
    "#DELETE\n",
    "del places[2]\n",
    "print(places)"
   ]
  },
  {
   "cell_type": "markdown",
   "id": "aa887e72-7d10-4546-ab6a-29908ab1814a",
   "metadata": {},
   "source": [
    "#CRUD-DICTIONARY"
   ]
  },
  {
   "cell_type": "code",
   "execution_count": 112,
   "id": "4727eb56-7ecf-4703-978b-8d14a6818920",
   "metadata": {},
   "outputs": [],
   "source": [
    "#CREATE\n",
    "student={\"name\":\"Thirisha\",\"age\":20,\"native\":\"Tamilnadu\"}"
   ]
  },
  {
   "cell_type": "code",
   "execution_count": 115,
   "id": "9c4c4c3d-a0d6-4e2e-8bba-4655a5a78953",
   "metadata": {},
   "outputs": [
    {
     "data": {
      "text/plain": [
       "{'name': 'Thirisha', 'age': 20, 'native': 'Tamilnadu'}"
      ]
     },
     "execution_count": 115,
     "metadata": {},
     "output_type": "execute_result"
    }
   ],
   "source": [
    "#READ\n",
    "student"
   ]
  },
  {
   "cell_type": "code",
   "execution_count": 116,
   "id": "8b458f43-67f1-45c6-b5c8-94cf6cfa8a52",
   "metadata": {},
   "outputs": [
    {
     "data": {
      "text/plain": [
       "dict"
      ]
     },
     "execution_count": 116,
     "metadata": {},
     "output_type": "execute_result"
    }
   ],
   "source": [
    "type(student)"
   ]
  },
  {
   "cell_type": "code",
   "execution_count": 118,
   "id": "2f458750-fc80-482f-9230-5cf88f0d324c",
   "metadata": {},
   "outputs": [
    {
     "data": {
      "text/plain": [
       "20"
      ]
     },
     "execution_count": 118,
     "metadata": {},
     "output_type": "execute_result"
    }
   ],
   "source": [
    "student[\"age\"]"
   ]
  },
  {
   "cell_type": "code",
   "execution_count": 119,
   "id": "8b829a9f-90ea-45c7-bcb6-342c9237e93b",
   "metadata": {},
   "outputs": [
    {
     "data": {
      "text/plain": [
       "dict_keys(['name', 'age', 'native'])"
      ]
     },
     "execution_count": 119,
     "metadata": {},
     "output_type": "execute_result"
    }
   ],
   "source": [
    "student.keys()"
   ]
  },
  {
   "cell_type": "code",
   "execution_count": 120,
   "id": "7ed7127e-eef6-4d19-aaa1-d79685cbf600",
   "metadata": {},
   "outputs": [
    {
     "data": {
      "text/plain": [
       "dict_values(['Thirisha', 20, 'Tamilnadu'])"
      ]
     },
     "execution_count": 120,
     "metadata": {},
     "output_type": "execute_result"
    }
   ],
   "source": [
    "student.values()"
   ]
  },
  {
   "cell_type": "code",
   "execution_count": 121,
   "id": "b9ad985c-9337-4b13-a30f-d7027b1fdbcd",
   "metadata": {},
   "outputs": [
    {
     "data": {
      "text/plain": [
       "dict_items([('name', 'Thirisha'), ('age', 20), ('native', 'Tamilnadu')])"
      ]
     },
     "execution_count": 121,
     "metadata": {},
     "output_type": "execute_result"
    }
   ],
   "source": [
    "student.items()"
   ]
  },
  {
   "cell_type": "code",
   "execution_count": 122,
   "id": "086fec21-71f4-426a-a6d7-4b9a19738511",
   "metadata": {},
   "outputs": [],
   "source": [
    "#update\n",
    "student[\"country\"]=\"India\""
   ]
  },
  {
   "cell_type": "code",
   "execution_count": 123,
   "id": "da69e724-4f61-40aa-b9be-25b538b94b88",
   "metadata": {},
   "outputs": [
    {
     "data": {
      "text/plain": [
       "{'name': 'Thirisha', 'age': 20, 'native': 'Tamilnadu', 'country': 'India'}"
      ]
     },
     "execution_count": 123,
     "metadata": {},
     "output_type": "execute_result"
    }
   ],
   "source": [
    "student"
   ]
  },
  {
   "cell_type": "code",
   "execution_count": 124,
   "id": "f244f151-5ad6-4a3c-99c1-92b3d003ac15",
   "metadata": {},
   "outputs": [],
   "source": [
    "student[\"age\"]=21"
   ]
  },
  {
   "cell_type": "code",
   "execution_count": 125,
   "id": "3c5ae83d-df2b-442d-afa2-321533986be5",
   "metadata": {},
   "outputs": [
    {
     "data": {
      "text/plain": [
       "{'name': 'Thirisha', 'age': 21, 'native': 'Tamilnadu', 'country': 'India'}"
      ]
     },
     "execution_count": 125,
     "metadata": {},
     "output_type": "execute_result"
    }
   ],
   "source": [
    "student"
   ]
  },
  {
   "cell_type": "code",
   "execution_count": 126,
   "id": "b36a245d-6c94-4b82-a69e-2aa02049e5c4",
   "metadata": {},
   "outputs": [],
   "source": [
    "#DELETE\n",
    "del student[\"native\"]"
   ]
  },
  {
   "cell_type": "code",
   "execution_count": 127,
   "id": "fa1c934b-bbd5-49af-8c00-d661424bb3a9",
   "metadata": {},
   "outputs": [
    {
     "data": {
      "text/plain": [
       "{'name': 'Thirisha', 'age': 21, 'country': 'India'}"
      ]
     },
     "execution_count": 127,
     "metadata": {},
     "output_type": "execute_result"
    }
   ],
   "source": [
    "student"
   ]
  },
  {
   "cell_type": "markdown",
   "id": "d702217f-d4d6-4faa-bd19-1f0f6b2f93f0",
   "metadata": {},
   "source": [
    "#IF ELSE STATEMENT"
   ]
  },
  {
   "cell_type": "code",
   "execution_count": 129,
   "id": "fe0eafd5-d5b7-4118-9b0a-fb9166c4f812",
   "metadata": {},
   "outputs": [
    {
     "name": "stdout",
     "output_type": "stream",
     "text": [
      "it is equal to 10\n"
     ]
    }
   ],
   "source": [
    "n=10\n",
    "if n==10:\n",
    "    print(\"it is equal to 10\")\n",
    "else:\n",
    "    print(\"it not equal to 10\")\n"
   ]
  },
  {
   "cell_type": "code",
   "execution_count": 130,
   "id": "d9a12ad1-ecc7-461a-9d34-90b24a1a6606",
   "metadata": {},
   "outputs": [
    {
     "name": "stdout",
     "output_type": "stream",
     "text": [
      "number is less than 7\n"
     ]
    }
   ],
   "source": [
    "num=7\n",
    "if num<=7:\n",
    "    print(\"number is less than 7\")\n",
    "elif num>=10:\n",
    "    print(\"number is greater than 10\")\n",
    "else:\n",
    "    print(\"number is between 6 and 9\")"
   ]
  },
  {
   "cell_type": "markdown",
   "id": "05d115b4-2d93-4690-93eb-4e55d6f6481a",
   "metadata": {},
   "source": [
    "#IN STATEMENT"
   ]
  },
  {
   "cell_type": "code",
   "execution_count": 133,
   "id": "8408e06f-ca28-42bb-b30a-f4d4c0152913",
   "metadata": {},
   "outputs": [
    {
     "data": {
      "text/plain": [
       "list"
      ]
     },
     "execution_count": 133,
     "metadata": {},
     "output_type": "execute_result"
    }
   ],
   "source": [
    "country=[\"India\",\"Australia\",\"America\",\"UK\",\"Spain\",\"France\"]\n",
    "type(country)"
   ]
  },
  {
   "cell_type": "code",
   "execution_count": 134,
   "id": "c277031e-c791-4823-9413-74d691e55711",
   "metadata": {},
   "outputs": [
    {
     "data": {
      "text/plain": [
       "True"
      ]
     },
     "execution_count": 134,
     "metadata": {},
     "output_type": "execute_result"
    }
   ],
   "source": [
    "\"India\" in country"
   ]
  },
  {
   "cell_type": "code",
   "execution_count": 135,
   "id": "d86f10a5-4865-4b2b-9aab-eaec634fcc33",
   "metadata": {},
   "outputs": [
    {
     "data": {
      "text/plain": [
       "False"
      ]
     },
     "execution_count": 135,
     "metadata": {},
     "output_type": "execute_result"
    }
   ],
   "source": [
    "\"swedan\" in country"
   ]
  },
  {
   "cell_type": "code",
   "execution_count": 136,
   "id": "202b395e-10c8-4c64-a726-28ea1efc1d82",
   "metadata": {},
   "outputs": [
    {
     "name": "stdout",
     "output_type": "stream",
     "text": [
      "it is France !!!\n"
     ]
    }
   ],
   "source": [
    "if \"France\" in country:\n",
    "    print(\"it is France !!!\")"
   ]
  },
  {
   "cell_type": "markdown",
   "id": "53d2f653-88c8-42d0-96cf-dbdd65e46e00",
   "metadata": {},
   "source": [
    "#FOR LOOP"
   ]
  },
  {
   "cell_type": "code",
   "execution_count": 138,
   "id": "2c3ebacd-71b7-4499-bc99-02a39fdd8799",
   "metadata": {},
   "outputs": [
    {
     "name": "stdout",
     "output_type": "stream",
     "text": [
      "India\n",
      "Australia\n",
      "America\n",
      "UK\n",
      "UK is London\n",
      "Spain\n",
      "France\n"
     ]
    }
   ],
   "source": [
    "for i in country:\n",
    "    print(i)\n",
    "    if i ==\"UK\":\n",
    "        print(\"UK is London\")"
   ]
  },
  {
   "cell_type": "markdown",
   "id": "c5cfce9b-bfa3-4eff-ac8c-52e46bb8d2d5",
   "metadata": {},
   "source": [
    "#BREAK ,CONTINUE,PASS"
   ]
  },
  {
   "cell_type": "code",
   "execution_count": 142,
   "id": "b8095dfd-d6dc-416e-861b-dc9b7719108d",
   "metadata": {},
   "outputs": [
    {
     "name": "stdout",
     "output_type": "stream",
     "text": [
      "India\n",
      "it is spain\n"
     ]
    }
   ],
   "source": [
    "for i in country:\n",
    "    print(i)\n",
    "    if i ==\"UK\":\n",
    "        print(\"UK is London\")\n",
    "    else:\n",
    "        break\n",
    "    "
   ]
  },
  {
   "cell_type": "code",
   "execution_count": 145,
   "id": "9fe8b44c-418c-4a34-ba68-236a73d852cd",
   "metadata": {},
   "outputs": [
    {
     "name": "stdout",
     "output_type": "stream",
     "text": [
      "India\n",
      "It is one of the country among 196\n",
      "Australia\n",
      "It is one of the country among 196\n",
      "America\n",
      "It is one of the country among 196\n",
      "UK\n",
      "Spain\n",
      "It is one of the country among 196\n",
      "France\n",
      "It is one of the country among 196\n"
     ]
    }
   ],
   "source": [
    "for i in country:\n",
    "    print(i)\n",
    "    if i ==\"UK\":\n",
    "        continue\n",
    "        print(\"UK is London\")\n",
    "    else:\n",
    "        print(\"It is one of the country among 196\")"
   ]
  },
  {
   "cell_type": "code",
   "execution_count": null,
   "id": "042ffac6-9c1f-4d7c-a250-f6cf54a84417",
   "metadata": {},
   "outputs": [],
   "source": [
    "for i in country:\n",
    "    print(i)\n",
    "    if i ==\"UK\":\n",
    "        print(\"UK is London\")\n",
    "    else:\n",
    "        pass"
   ]
  },
  {
   "cell_type": "markdown",
   "id": "9a283b5c-6db9-4d67-a872-d55ecfde0ca9",
   "metadata": {},
   "source": [
    "#WHILE LOOP"
   ]
  },
  {
   "cell_type": "code",
   "execution_count": 2,
   "id": "ed734f8e-4135-4504-8e48-e779e792a63b",
   "metadata": {},
   "outputs": [
    {
     "name": "stdout",
     "output_type": "stream",
     "text": [
      "choclate1\n",
      "choclate2\n",
      "choclate3\n",
      "choclate4\n",
      "choclate5\n",
      "choclate6\n",
      "choclate7\n",
      "choclate8\n",
      "choclate9\n",
      "choclate10\n",
      "choclates over!!!\n"
     ]
    }
   ],
   "source": [
    "choclate=0\n",
    "tot_choclate=10\n",
    "while True:\n",
    "    print(\"choclate{}\".format(choclate+1))\n",
    "    choclate+=1\n",
    "    if choclate==tot_choclate:\n",
    "        print(\"choclates over!!!\")\n",
    "        break\n"
   ]
  },
  {
   "cell_type": "markdown",
   "id": "bbd13621-c2d3-48bf-bc19-9b54e9d7dfbd",
   "metadata": {},
   "source": [
    "#LOOP THROUGH DICTIONARIES"
   ]
  },
  {
   "cell_type": "code",
   "execution_count": 3,
   "id": "3ae7f8a8-f603-4b3d-8058-c6a58fe9df29",
   "metadata": {},
   "outputs": [],
   "source": [
    "colors={\n",
    "    1:\"red\",2:\"yellow\",3:\"blue\",4:\"orange\",5:\"pink\",6:\"violet\"}\n"
   ]
  },
  {
   "cell_type": "code",
   "execution_count": 4,
   "id": "5ad2f5ce-eb98-40f3-a562-28a6334308ac",
   "metadata": {},
   "outputs": [
    {
     "name": "stdout",
     "output_type": "stream",
     "text": [
      "1\n",
      "2\n",
      "3\n",
      "4\n",
      "5\n",
      "6\n"
     ]
    }
   ],
   "source": [
    "#looping through keys:\n",
    "for i in colors.keys():\n",
    "    print(i)"
   ]
  },
  {
   "cell_type": "code",
   "execution_count": 5,
   "id": "1a371cd1-4cde-4cd1-8a12-469056b1e970",
   "metadata": {},
   "outputs": [
    {
     "name": "stdout",
     "output_type": "stream",
     "text": [
      "red\n",
      "yellow\n",
      "blue\n",
      "orange\n",
      "pink\n",
      "violet\n"
     ]
    }
   ],
   "source": [
    "#looping through values:\n",
    "for i in colors.values():\n",
    "    print(i)"
   ]
  },
  {
   "cell_type": "code",
   "execution_count": 6,
   "id": "1cc0a6ee-8144-4098-8a0a-2dbaaf10a36f",
   "metadata": {},
   "outputs": [
    {
     "data": {
      "text/plain": [
       "dict_keys([1, 2, 3, 4, 5, 6])"
      ]
     },
     "execution_count": 6,
     "metadata": {},
     "output_type": "execute_result"
    }
   ],
   "source": [
    "colors.keys()"
   ]
  },
  {
   "cell_type": "code",
   "execution_count": 7,
   "id": "9ed3e845-a9db-4d4b-89bf-e16a1bb56062",
   "metadata": {},
   "outputs": [
    {
     "data": {
      "text/plain": [
       "dict_values(['red', 'yellow', 'blue', 'orange', 'pink', 'violet'])"
      ]
     },
     "execution_count": 7,
     "metadata": {},
     "output_type": "execute_result"
    }
   ],
   "source": [
    "colors.values()"
   ]
  },
  {
   "cell_type": "code",
   "execution_count": 8,
   "id": "d6f3f2aa-677a-4351-8122-65fe6957553f",
   "metadata": {},
   "outputs": [
    {
     "name": "stdout",
     "output_type": "stream",
     "text": [
      "(1, 'red')\n",
      "(2, 'yellow')\n",
      "(3, 'blue')\n",
      "(4, 'orange')\n",
      "(5, 'pink')\n",
      "(6, 'violet')\n"
     ]
    }
   ],
   "source": [
    "for i in colors.items():\n",
    "    print(i)"
   ]
  },
  {
   "cell_type": "code",
   "execution_count": 9,
   "id": "f9ffae2c-c7b9-4dc5-83fd-52df202aae94",
   "metadata": {},
   "outputs": [
    {
     "data": {
      "text/plain": [
       "dict_items([(1, 'red'), (2, 'yellow'), (3, 'blue'), (4, 'orange'), (5, 'pink'), (6, 'violet')])"
      ]
     },
     "execution_count": 9,
     "metadata": {},
     "output_type": "execute_result"
    }
   ],
   "source": [
    "colors.items()"
   ]
  },
  {
   "cell_type": "markdown",
   "id": "4bb6cea2-e881-4b0b-be48-dd281171c88f",
   "metadata": {},
   "source": [
    "#LIST COMPREHENSIONS\n"
   ]
  },
  {
   "cell_type": "code",
   "execution_count": 10,
   "id": "30cd873a-a275-4916-bcff-a180d6a6615c",
   "metadata": {},
   "outputs": [],
   "source": [
    "animals=[\"dog\",\"cat\",\"elephant\",\"pig\",\"cow\",\"donkey\",\"lion\",\"tiger\"]"
   ]
  },
  {
   "cell_type": "code",
   "execution_count": 13,
   "id": "cdbb2261-85f6-433e-890f-ffe56fdb67bc",
   "metadata": {},
   "outputs": [],
   "source": [
    "new_animals=[i.title() for i in animals]"
   ]
  },
  {
   "cell_type": "code",
   "execution_count": 14,
   "id": "241abc5a-fcde-4849-86f7-fec5859f85c8",
   "metadata": {},
   "outputs": [
    {
     "data": {
      "text/plain": [
       "['Dog', 'Cat', 'Elephant', 'Pig', 'Cow', 'Donkey', 'Lion', 'Tiger']"
      ]
     },
     "execution_count": 14,
     "metadata": {},
     "output_type": "execute_result"
    }
   ],
   "source": [
    "new_animals"
   ]
  },
  {
   "cell_type": "markdown",
   "id": "2d5e02b3-5435-4a86-8595-21bf3f38f56a",
   "metadata": {},
   "source": [
    "#FUNCTION"
   ]
  },
  {
   "cell_type": "code",
   "execution_count": 17,
   "id": "979b31b5-1f46-4680-9f48-ab7243d20528",
   "metadata": {},
   "outputs": [],
   "source": [
    "def greeting():\n",
    "    print(\"Good morning\")\n",
    "    print(\"hello\")"
   ]
  },
  {
   "cell_type": "code",
   "execution_count": 18,
   "id": "0c08a05e-9e91-46e2-a979-3f67a79d6e05",
   "metadata": {},
   "outputs": [
    {
     "name": "stdout",
     "output_type": "stream",
     "text": [
      "Good morning\n",
      "hello\n"
     ]
    }
   ],
   "source": [
    "greeting()"
   ]
  },
  {
   "cell_type": "code",
   "execution_count": 19,
   "id": "a51984c8-c6f7-4bc3-b7ac-7c0d43643fd4",
   "metadata": {},
   "outputs": [
    {
     "name": "stdout",
     "output_type": "stream",
     "text": [
      "Good morning\n",
      "hello\n",
      "Good morning\n",
      "hello\n",
      "Good morning\n",
      "hello\n",
      "Good morning\n",
      "hello\n",
      "Good morning\n",
      "hello\n"
     ]
    }
   ],
   "source": [
    "for i in range(5):\n",
    "    greeting()"
   ]
  },
  {
   "cell_type": "markdown",
   "id": "b0b97964-85c8-4a71-8077-5ea025cc6b37",
   "metadata": {},
   "source": [
    "#POSITIONAL ARGUMENTS"
   ]
  },
  {
   "cell_type": "code",
   "execution_count": 23,
   "id": "0e044497-afa5-428f-be1d-5bc991d8e1fa",
   "metadata": {},
   "outputs": [],
   "source": [
    "def greet(name):\n",
    "    print(\"Hi there!!{}\".format(name))"
   ]
  },
  {
   "cell_type": "code",
   "execution_count": 24,
   "id": "28773b8d-5f4e-4727-8c81-cddedc2f8e2a",
   "metadata": {},
   "outputs": [
    {
     "name": "stdout",
     "output_type": "stream",
     "text": [
      "Hi there!!reena\n"
     ]
    }
   ],
   "source": [
    "greet(\"reena\")"
   ]
  },
  {
   "cell_type": "code",
   "execution_count": 25,
   "id": "12875ed5-5a1d-463d-a132-06fe03eddd4e",
   "metadata": {},
   "outputs": [
    {
     "name": "stdout",
     "output_type": "stream",
     "text": [
      "Hi there!!bob jerry\n"
     ]
    }
   ],
   "source": [
    "print(\"Hi there!!{} {}\".format(\"bob\",\"jerry\"))"
   ]
  },
  {
   "cell_type": "code",
   "execution_count": 26,
   "id": "a8a1e2ff-4d00-4ddd-b7dd-b252037e2085",
   "metadata": {},
   "outputs": [
    {
     "name": "stdout",
     "output_type": "stream",
     "text": [
      "Hi there!!3sha\n",
      "Hi there!!arthi\n",
      "Hi there!!riya\n",
      "Hi there!!rishi\n"
     ]
    }
   ],
   "source": [
    "names=[\"3sha\",\"arthi\",\"riya\",\"rishi\"]\n",
    "for i in names:\n",
    "    greet(i)"
   ]
  },
  {
   "cell_type": "raw",
   "id": "672f4d05-39a8-4a39-b1e2-f36c5cf11df3",
   "metadata": {},
   "source": [
    "#MULTIPLE POSITIONAL ARGUMENTS"
   ]
  },
  {
   "cell_type": "code",
   "execution_count": 28,
   "id": "fb8e9746-f8a8-46d1-96ba-d41981a0bbc2",
   "metadata": {},
   "outputs": [],
   "source": [
    "def inf(name,country):\n",
    "    print(\"hii {} from {}\".format(name,country))\n",
    "    "
   ]
  },
  {
   "cell_type": "code",
   "execution_count": 29,
   "id": "a76f0f9f-02e7-466f-89ca-692566b1daf0",
   "metadata": {},
   "outputs": [
    {
     "name": "stdout",
     "output_type": "stream",
     "text": [
      "hii albert from England\n"
     ]
    }
   ],
   "source": [
    "inf(\"albert\",\"England\")"
   ]
  },
  {
   "cell_type": "code",
   "execution_count": 30,
   "id": "ce952ebe-8095-4936-9968-225f63b24736",
   "metadata": {},
   "outputs": [
    {
     "name": "stdout",
     "output_type": "stream",
     "text": [
      "hii riya from paris\n"
     ]
    }
   ],
   "source": [
    "inf(\"riya\",\"paris\")"
   ]
  },
  {
   "cell_type": "code",
   "execution_count": null,
   "id": "2a1d3689-a0f3-43a2-a7da-4cd3840ea1fc",
   "metadata": {},
   "outputs": [],
   "source": []
  }
 ],
 "metadata": {
  "kernelspec": {
   "display_name": "Python 3 (ipykernel)",
   "language": "python",
   "name": "python3"
  },
  "language_info": {
   "codemirror_mode": {
    "name": "ipython",
    "version": 3
   },
   "file_extension": ".py",
   "mimetype": "text/x-python",
   "name": "python",
   "nbconvert_exporter": "python",
   "pygments_lexer": "ipython3",
   "version": "3.12.2"
  }
 },
 "nbformat": 4,
 "nbformat_minor": 5
}
